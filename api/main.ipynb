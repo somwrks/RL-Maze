{
 "cells": [
  {
   "cell_type": "code",
   "execution_count": null,
   "metadata": {},
   "outputs": [],
   "source": [
    "import os\n",
    "import pandas as pd\n",
    "import numpy as np\n",
    "import matplotlib.pyplot as plt\n",
    "import time"
   ]
  },
  {
   "cell_type": "code",
   "execution_count": null,
   "metadata": {},
   "outputs": [],
   "source": [
    "class Maze:\n",
    "    #  setting up the maze\n",
    "    def __init__(self,maze,start_position,end_position):\n",
    "        self.maze=maze\n",
    "        self.start_position = start_position\n",
    "        self.end_position = end_position\n",
    "        self.maze_width = maze_layout.shape[0]\n",
    "        self.maze_height= maze_layout.shape[1]\n",
    "        \n",
    "    def show_maze(self):\n",
    "        plt.figure(figsize=(5,5))\n",
    "        plt.imshow(self.maze,cmap='gray')\n",
    "        plt.text(self.start_position[0], self.start_position[1], 'S', ha='center',va='center',color='red',fontsize=20)\n",
    "        plt.text(self.end_position[0], self.end_position[1], 'E', ha='center',va='center',color='green',fontsize=20)\n",
    "        plt.xticks([])\n",
    "        plt.yticks([])\n",
    "        plt.show()\n",
    "        \n",
    "    \n",
    "        "
   ]
  },
  {
   "cell_type": "code",
   "execution_count": null,
   "metadata": {},
   "outputs": [],
   "source": [
    "maze_layout = np.array([\n",
    "    [0,1,0,0,0],\n",
    "    [0,1,1,1,0],\n",
    "    [0,0,0,1,0],\n",
    "    [1,1,0,1,1],\n",
    "    [0,0,0,0,0],\n",
    "])"
   ]
  },
  {
   "cell_type": "code",
   "execution_count": null,
   "metadata": {},
   "outputs": [],
   "source": [
    "maze = Maze(maze_layout,(0,0),(4,4))"
   ]
  },
  {
   "cell_type": "code",
   "execution_count": null,
   "metadata": {},
   "outputs": [],
   "source": [
    "maze.show_maze()"
   ]
  },
  {
   "cell_type": "code",
   "execution_count": null,
   "metadata": {},
   "outputs": [],
   "source": [
    "actions = [(-1,0),(1,0),(0,-1),(0,1)] # move up, down, left and right"
   ]
  },
  {
   "cell_type": "code",
   "execution_count": null,
   "metadata": {},
   "outputs": [],
   "source": [
    "class Agent:\n",
    "    def __init__(self, maze, learning_rate=0.1,discount_factor=0.9,exploration_start=1.0,exploration_end=0.01, epochs=100):\n",
    "        self.q_table = np.zeros((maze.maze_height,maze.maze_width,4))\n",
    "        self.learning_rate = learning_rate\n",
    "        self.discount_factor = discount_factor\n",
    "        self.exploration_start = exploration_start\n",
    "        self.exploration_end = exploration_end\n",
    "        self.epochs = epochs\n",
    "    def get_exploration_rate(self,current_episode):\n",
    "        exploration_rate = self.exploration_start * (self.exploration_end/ self.exploration_start) ** (current_episode/self.epochs)\n",
    "        return exploration_rate\n",
    "    def get_action(self,state , current_episode):\n",
    "        exploration_rate = self.get_exploration_rate(current_episode)\n",
    "        \n",
    "        if np.random.rand() < exploration_rate:\n",
    "            return np.random.randint(4)\n",
    "        else:\n",
    "            return np.argmax(self.q_table[state])\n",
    "        \n",
    "    def update_q_table(self, state,action,next_state,reward):\n",
    "        best_next_action = np.argmax(self.q_table[next_state])\n",
    "        current_q_value = self.q_table[state][action]\n",
    "        new_q_value = current_q_value  + self.learning_rate * (reward + self.discount_factor * self.q_table[next_state][best_next_action] - current_q_value)\n",
    "        \n",
    "        "
   ]
  },
  {
   "cell_type": "code",
   "execution_count": null,
   "metadata": {},
   "outputs": [],
   "source": [
    "goal_reward = 100\n",
    "wall_penalty = -10\n",
    "step_penalty = -1"
   ]
  },
  {
   "cell_type": "code",
   "execution_count": null,
   "metadata": {},
   "outputs": [],
   "source": [
    "def finish_episode ( agent  , maze , current_episode , train = True):\n",
    "    current_state = maze.start_position\n",
    "    is_done = False\n",
    "    episode_reward = 0\n",
    "    episode_step = 0\n",
    "    path = [current_state]\n",
    "    \n",
    "    while not is_done:\n",
    "        action = agent.get_action(current_state,current_episode)\n",
    "        next_state = (current_state[0]+ actions[action][0], current_state[1] + actions[action][1])\n",
    "        if next_state[0] < 0 or next_state[0] >= maze.maze_height or next_state[1] < 0 or next_state[1] >= maze.maze_width :\n",
    "            reward = wall_penalty\n",
    "            next_state = current_state\n",
    "        elif next_state == (maze.end_position):\n",
    "            path.append(current_state)\n",
    "            reward = goal_reward\n",
    "            is_done = True\n",
    "        else:\n",
    "            path.append(current_state)\n",
    "            reward = step_penalty\n",
    "            \n",
    "        episode_reward +=reward\n",
    "        episode_step +=1\n",
    "        \n",
    "        if train == True:\n",
    "            agent.update_q_table(current_state, action,next_state,reward)\n",
    "            \n",
    "            current_state = next_state\n",
    "            \n",
    "    return episode_reward, episode_step,path"
   ]
  },
  {
   "cell_type": "code",
   "execution_count": null,
   "metadata": {},
   "outputs": [],
   "source": [
    "def test_agent(agent,maze,epochs=1):\n",
    "    episode_reward, episode_step, path = finish_episode(agent,maze,epochs,train=False)\n",
    "    \n",
    "    print(\"Learned Path:\")\n",
    "    for row, col in path:\n",
    "        print(f\"({row},{col})-> \", end='')\n",
    "    print(\"goal!\")\n",
    "    \n",
    "    print(\"number of steps: \", episode_step)\n",
    "    print(\"Total reward: \", episode_reward)\n",
    "    \n",
    "    if plt.gcf().get_axes():\n",
    "        plt.cla()\n",
    "    plt.figure(figsize=(5,5))\n",
    "    plt.imshow(maze.maze, cmpa='gray')\n",
    "    \n",
    "    plt.text(maze.start_position[0], maze.start_position[1], 'S', ha=\"center\", va='center',color='red',fontsize=20)\n",
    "    plt.text(maze.end_position[0], maze.end_position[1], 'G', ha=\"center\", va='center',color='green',fontsize=20)\n",
    "    \n",
    "    for position in path:\n",
    "        plt.text(position[0], position[1],\"#\",va=\"center\",color=\"blue\",fontsize=20)\n",
    "    \n",
    "    plt.xticks([],plt.yticks([]))\n",
    "    plt.grid(color='black',linewidth=2)\n",
    "    plt.show()\n",
    "    return episode_step, episode_reward\n"
   ]
  },
  {
   "cell_type": "code",
   "execution_count": null,
   "metadata": {},
   "outputs": [],
   "source": [
    "def train_agent(agent,maze,epochs=100):\n",
    "    episode_rewards = []\n",
    "    episode_steps = []\n",
    "    \n",
    "    for episode in range(epochs):\n",
    "        episode_reward,episode_step,path = finish_episode(agent,maze,episode,train = True)\n",
    "        \n",
    "        episode_rewards.append(episode_reward)\n",
    "        episode_steps.append(episode_step)\n",
    "        \n",
    "    plt.figure(figsize=(10,5))\n",
    "    plt.subplot(1,2,1)\n",
    "    plt.plot(episode_rewards)\n",
    "    plt.xlabel(\"episode\")\n",
    "    plt.ylabel(\"cumulative reward\")\n",
    "    plt.title(\"reward per episode\")\n",
    "    \n",
    "    average_reward = sum(episode_rewards) / len(episode_rewards)\n",
    "    print(f\"the average reward is : {average_reward}\")\n",
    "    \n",
    "    plt.subplot(1,2,2)\n",
    "    plt.plot(episode_steps)\n",
    "    plt.xlabel(\"Episode\")\n",
    "    plt.ylabel(\"Steps taken\")\n",
    "    plt.ylim(0,100)\n",
    "    plt.title(\"Steps per episode\")\n",
    "    \n",
    "    average_steps = sum(episode_steps) / len(episode_steps)\n",
    "    print(f\"The average steps is : {average_steps}\")\n",
    "    \n",
    "    plt.tight_layout()\n",
    "    plt.show()"
   ]
  },
  {
   "cell_type": "code",
   "execution_count": null,
   "metadata": {},
   "outputs": [],
   "source": [
    "agent = Agent(maze)\n"
   ]
  },
  {
   "cell_type": "code",
   "execution_count": null,
   "metadata": {},
   "outputs": [],
   "source": [
    "train_agent(agent,maze,epochs=40)"
   ]
  },
  {
   "cell_type": "code",
   "execution_count": null,
   "metadata": {},
   "outputs": [],
   "source": [
    "test_agent(agent,maze,epochs=40)"
   ]
  },
  {
   "cell_type": "code",
   "execution_count": null,
   "metadata": {},
   "outputs": [],
   "source": []
  }
 ],
 "metadata": {
  "kernelspec": {
   "display_name": "Python 3",
   "language": "python",
   "name": "python3"
  },
  "language_info": {
   "codemirror_mode": {
    "name": "ipython",
    "version": 3
   },
   "file_extension": ".py",
   "mimetype": "text/x-python",
   "name": "python",
   "nbconvert_exporter": "python",
   "pygments_lexer": "ipython3",
   "version": "3.10.13"
  }
 },
 "nbformat": 4,
 "nbformat_minor": 2
}
