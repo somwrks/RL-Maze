{
 "cells": [
  {
   "cell_type": "code",
   "execution_count": 4,
   "metadata": {},
   "outputs": [],
   "source": [
    "import os\n",
    "import pandas as pd\n",
    "import numpy as np\n",
    "import matplotlib.pyplot as plt\n",
    "import time"
   ]
  },
  {
   "cell_type": "code",
   "execution_count": 5,
   "metadata": {},
   "outputs": [],
   "source": [
    "class Maze:\n",
    "    #  setting up the maze\n",
    "    def __init__(self,maze,start_position,end_position):\n",
    "        self.maze=maze\n",
    "        self.start_position = start_position\n",
    "        self.end_position = end_position\n",
    "        self.maze_width = maze_layout.shape[0]\n",
    "        self.maze_height= maze_layout.shape[1]\n",
    "        \n",
    "    def show_maze(self):\n",
    "        plt.figure(figsize=(5,5))\n",
    "        plt.imshow(self.maze,cmap='gray')\n",
    "        plt.text(self.start_position[0], self.start_position[1], 'S', ha='center',va='center',color='red',fontsize=20)\n",
    "        plt.text(self.end_position[0], self.end_position[1], 'E', ha='center',va='center',color='green',fontsize=20)\n",
    "        plt.xticks([])\n",
    "        plt.yticks([])\n",
    "        plt.show()\n",
    "        \n",
    "    \n",
    "        "
   ]
  },
  {
   "cell_type": "code",
   "execution_count": 14,
   "metadata": {},
   "outputs": [],
   "source": [
    "maze_layout = np.array([\n",
    "    [0,1,0,0,0],\n",
    "    [0,1,1,1,0],\n",
    "    [0,0,0,1,0],\n",
    "    [1,1,0,1,1],\n",
    "    [0,0,0,0,0],\n",
    "])"
   ]
  },
  {
   "cell_type": "code",
   "execution_count": 15,
   "metadata": {},
   "outputs": [],
   "source": [
    "maze = Maze(maze_layout,(0,0),(4,4))"
   ]
  },
  {
   "cell_type": "code",
   "execution_count": 16,
   "metadata": {},
   "outputs": [
    {
     "data": {
      "image/png": "[encoded data removed]",
      "text/plain": [
       "<Figure size 500x500 with 1 Axes>"
      ]
     },
     "metadata": {},
     "output_type": "display_data"
    }
   ],
   "source": [
    "maze.show_maze()"
   ]
  },
  {
   "cell_type": "code",
   "execution_count": 17,
   "metadata": {},
   "outputs": [],
   "source": [
    "actions = [(-1,0),(1,0),(0,-1),(0,1)] # move up, down, left and right"
   ]
  },
  {
   "cell_type": "code",
   "execution_count": null,
   "metadata": {},
   "outputs": [],
   "source": [
    "class Agent:\n",
    "    def __init__(self, maze, learning_rate=0.1,discount_factor=0.9,exploration_start=1.0,exploration_end=0.01, num_episodes=100):\n",
    "        self.q_table = np.zeroes((maze.maze_height,maze.maze_width,4))\n",
    "        self.learning_rate = learning_rate\n",
    "        self.discount_factor = discount_factor\n",
    "        self.exploration_start = exploration_start\n",
    "        self.exploration_end = exploration_end\n",
    "        self.num_episodes = num_episodes\n",
    "    def get_exploration_rate(self,current_episode):\n",
    "        exploration_rate = self.exploration_start * (self.exploration_end/ self.exploration_start) ** (current_episode/self.num_episodes)\n",
    "        return exploration_rate\n",
    "    def get_action(self,state , current_episode):\n",
    "        exploration_rate = self.get_exploration_rate(current_episode)\n",
    "        \n",
    "        if np.random.rand() < exploration_rate:\n",
    "            return np.random.randint(4)\n",
    "        else:\n",
    "            return np.argmax(self.q_table[state])\n",
    "        \n",
    "    def update_q_table(self, state,action,next_state,reward):\n",
    "        best_next_action = np.argmax(self.q_table[next_state])\n",
    "        "
   ]
  }
 ],
 "metadata": {
  "kernelspec": {
   "display_name": "Python 3",
   "language": "python",
   "name": "python3"
  },
  "language_info": {
   "codemirror_mode": {
    "name": "ipython",
    "version": 3
   },
   "file_extension": ".py",
   "mimetype": "text/x-python",
   "name": "python",
   "nbconvert_exporter": "python",
   "pygments_lexer": "ipython3",
   "version": "3.10.13"
  }
 },
 "nbformat": 4,
 "nbformat_minor": 2
}
